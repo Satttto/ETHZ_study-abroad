{
 "cells": [
  {
   "cell_type": "code",
   "execution_count": 8,
   "metadata": {
    "colab": {},
    "colab_type": "code",
    "id": "aIjd21ngVUIC"
   },
   "outputs": [],
   "source": [
    "\n",
    "COLAB = False\n",
    "\n",
    "if COLAB:\n",
    "    from google.colab import drive\n",
    "    drive.mount('/content/drive')\n",
    "    directry = '/content/drive/My Drive/IML/task3/task3_s2h9lr3rs/'\n",
    "else:\n",
    "    directry = 'task3_s2h9lr3rs/'"
   ]
  },
  {
   "cell_type": "markdown",
   "metadata": {
    "colab_type": "text",
    "id": "ArFXK-MYiCGb"
   },
   "source": [
    "# Prepare data"
   ]
  },
  {
   "cell_type": "code",
   "execution_count": 9,
   "metadata": {
    "colab": {},
    "colab_type": "code",
    "id": "k5cela6hV36b"
   },
   "outputs": [],
   "source": [
    "import pandas as pd\n",
    "\n",
    "df_train = pd.read_csv(directry+'train.csv')\n",
    "df_test = pd.read_csv(directry+'test.csv')"
   ]
  },
  {
   "cell_type": "code",
   "execution_count": 10,
   "metadata": {
    "colab": {
     "base_uri": "https://localhost:8080/",
     "height": 221
    },
    "colab_type": "code",
    "id": "G6anyx9uV-xV",
    "outputId": "252d5b74-0606-4803-b7ca-5fb5a160fc04"
   },
   "outputs": [
    {
     "name": "stdout",
     "output_type": "stream",
     "text": [
      "(112000, 2)\n"
     ]
    },
    {
     "data": {
      "text/html": [
       "<div>\n",
       "<style scoped>\n",
       "    .dataframe tbody tr th:only-of-type {\n",
       "        vertical-align: middle;\n",
       "    }\n",
       "\n",
       "    .dataframe tbody tr th {\n",
       "        vertical-align: top;\n",
       "    }\n",
       "\n",
       "    .dataframe thead th {\n",
       "        text-align: right;\n",
       "    }\n",
       "</style>\n",
       "<table border=\"1\" class=\"dataframe\">\n",
       "  <thead>\n",
       "    <tr style=\"text-align: right;\">\n",
       "      <th></th>\n",
       "      <th>Sequence</th>\n",
       "      <th>Active</th>\n",
       "    </tr>\n",
       "  </thead>\n",
       "  <tbody>\n",
       "    <tr>\n",
       "      <th>0</th>\n",
       "      <td>DKWL</td>\n",
       "      <td>0</td>\n",
       "    </tr>\n",
       "    <tr>\n",
       "      <th>1</th>\n",
       "      <td>FCHN</td>\n",
       "      <td>0</td>\n",
       "    </tr>\n",
       "    <tr>\n",
       "      <th>2</th>\n",
       "      <td>KDQP</td>\n",
       "      <td>0</td>\n",
       "    </tr>\n",
       "    <tr>\n",
       "      <th>3</th>\n",
       "      <td>FNWI</td>\n",
       "      <td>0</td>\n",
       "    </tr>\n",
       "    <tr>\n",
       "      <th>4</th>\n",
       "      <td>NKRM</td>\n",
       "      <td>0</td>\n",
       "    </tr>\n",
       "  </tbody>\n",
       "</table>\n",
       "</div>"
      ],
      "text/plain": [
       "  Sequence  Active\n",
       "0     DKWL       0\n",
       "1     FCHN       0\n",
       "2     KDQP       0\n",
       "3     FNWI       0\n",
       "4     NKRM       0"
      ]
     },
     "execution_count": 10,
     "metadata": {},
     "output_type": "execute_result"
    }
   ],
   "source": [
    "print(df_train.shape)\n",
    "df_train.head()"
   ]
  },
  {
   "cell_type": "code",
   "execution_count": 11,
   "metadata": {
    "colab": {},
    "colab_type": "code",
    "id": "dHslCqW-WeVz"
   },
   "outputs": [],
   "source": [
    "import numpy\n",
    "from sklearn import preprocessing\n",
    "\n",
    "def split_features(features):\n",
    "    \"\"\"Split one feature into 4 features\n",
    "    \n",
    "    A feature consists of 4 characters. \n",
    "    This function splits these into separated 4 features each of that consists of 1 character(1 row become 4 rows)\n",
    "    (e.g.) ABCD -> A, B, C, D -> (00....1..0), (01....0), (100...0), (0.....1) \n",
    "    \n",
    "    Args:\n",
    "        features(series): Original features\n",
    "    \n",
    "    Returns:\n",
    "        new_features(numpy): New features shaped (num_samples, 4, 20(one hot encoding))\n",
    "    \n",
    "    \"\"\"\n",
    "    tmp = features.values.tolist()\n",
    "    new_features = pd.DataFrame.to_numpy(pd.get_dummies(pd.DataFrame(data=[list(tmp[i]) for i in range(len(tmp))])))\n",
    "    new_features = numpy.reshape(new_features, (new_features.shape[0], 20, -1), order='F')\n",
    "   \n",
    "    return new_features.transpose(0, 2, 1) # reshape as (num_sample, time_t, onehotencoding)"
   ]
  },
  {
   "cell_type": "code",
   "execution_count": 5,
   "metadata": {
    "colab": {},
    "colab_type": "code",
    "id": "uV2sNN5SWe5E"
   },
   "outputs": [],
   "source": [
    "def split_trainset(df_trainset):\n",
    "    \"\"\"Split train df into features X and labels y\n",
    "    \n",
    "    Features X further be splited into 4 chars using split_features function.\n",
    "    \n",
    "    Args:\n",
    "        df_features(df): Dataset each of whose row contains a feature and label\n",
    "    \n",
    "    Returns:\n",
    "        new_X(numpy): Features of training set\n",
    "        new_y(numpy): Labels of training set\n",
    "\n",
    "    \"\"\"\n",
    "    new_X = split_features(df_trainset['Sequence'])\n",
    "    new_y = pd.Series(data=df_trainset['Active'])\n",
    "    return new_X,  new_y"
   ]
  },
  {
   "cell_type": "code",
   "execution_count": 6,
   "metadata": {
    "colab": {},
    "colab_type": "code",
    "id": "iftsmfnIWhr3"
   },
   "outputs": [],
   "source": [
    "# Make train and test dataset using split_trainset function above\n",
    "train_X, train_y = split_trainset(df_train)\n",
    "test_X = split_features(df_test['Sequence'])"
   ]
  },
  {
   "cell_type": "markdown",
   "metadata": {
    "colab_type": "text",
    "id": "f69rHN0xicMt"
   },
   "source": [
    "# Define an LSTM model using keras and train it\n",
    "\n"
   ]
  },
  {
   "cell_type": "code",
   "execution_count": 1,
   "metadata": {
    "colab": {
     "base_uri": "https://localhost:8080/",
     "height": 34
    },
    "colab_type": "code",
    "id": "yh_YeI5vWjKq",
    "outputId": "5a523bcb-88d1-40fa-f0a5-a08d9f3b3eb3"
   },
   "outputs": [
    {
     "ename": "ModuleNotFoundError",
     "evalue": "No module named 'keras'",
     "output_type": "error",
     "traceback": [
      "\u001b[0;31m---------------------------------------------------------------------------\u001b[0m",
      "\u001b[0;31mModuleNotFoundError\u001b[0m                       Traceback (most recent call last)",
      "\u001b[0;32m<ipython-input-1-59417ee4982a>\u001b[0m in \u001b[0;36m<module>\u001b[0;34m\u001b[0m\n\u001b[1;32m      1\u001b[0m \u001b[0;32mimport\u001b[0m \u001b[0mtensorflow\u001b[0m \u001b[0;32mas\u001b[0m \u001b[0mtf\u001b[0m\u001b[0;34m\u001b[0m\u001b[0;34m\u001b[0m\u001b[0m\n\u001b[0;32m----> 2\u001b[0;31m \u001b[0;32mimport\u001b[0m \u001b[0mkeras\u001b[0m\u001b[0;34m\u001b[0m\u001b[0;34m\u001b[0m\u001b[0m\n\u001b[0m\u001b[1;32m      3\u001b[0m \u001b[0;32mfrom\u001b[0m \u001b[0mkeras\u001b[0m \u001b[0;32mimport\u001b[0m \u001b[0mbackend\u001b[0m \u001b[0;32mas\u001b[0m \u001b[0mK\u001b[0m\u001b[0;34m\u001b[0m\u001b[0;34m\u001b[0m\u001b[0m\n\u001b[1;32m      4\u001b[0m \u001b[0;32mfrom\u001b[0m \u001b[0mkeras\u001b[0m\u001b[0;34m.\u001b[0m\u001b[0mmodels\u001b[0m \u001b[0;32mimport\u001b[0m \u001b[0mSequential\u001b[0m\u001b[0;34m\u001b[0m\u001b[0;34m\u001b[0m\u001b[0m\n\u001b[1;32m      5\u001b[0m \u001b[0;32mfrom\u001b[0m \u001b[0mkeras\u001b[0m\u001b[0;34m.\u001b[0m\u001b[0mlayers\u001b[0m\u001b[0;34m.\u001b[0m\u001b[0mcore\u001b[0m \u001b[0;32mimport\u001b[0m \u001b[0mDense\u001b[0m\u001b[0;34m\u001b[0m\u001b[0;34m\u001b[0m\u001b[0m\n",
      "\u001b[0;31mModuleNotFoundError\u001b[0m: No module named 'keras'"
     ]
    }
   ],
   "source": [
    "import tensorflow as tf\n",
    "import keras\n",
    "from keras import backend as K\n",
    "from keras.models import Sequential\n",
    "from keras.layers.core import Dense\n",
    "from keras.layers.recurrent import LSTM\n",
    "from keras.optimizers import Adam\n",
    "from keras.callbacks import ModelCheckpoint\n",
    "from sklearn.utils import class_weight\n",
    "import numpy as np\n",
    "from numpy.random import seed\n",
    "import matplotlib.pyplot as plt\n",
    "\n",
    "\n",
    "seed(0)\n",
    "tf.random.set_seed(0)"
   ]
  },
  {
   "cell_type": "code",
   "execution_count": null,
   "metadata": {
    "colab": {},
    "colab_type": "code",
    "id": "DBm1Qa8wWlTh"
   },
   "outputs": [],
   "source": [
    "input_dim = 20            \n",
    "output_dim = 1        \n",
    "hidden_units_1 = 128\n",
    "timesteps = 4            \n",
    "batch_size = 64             \n",
    "num_of_training_epochs = 100\n",
    "learning_rate = 0.001        "
   ]
  },
  {
   "cell_type": "code",
   "execution_count": null,
   "metadata": {
    "colab": {},
    "colab_type": "code",
    "id": "9KqcZZUUyr6E"
   },
   "outputs": [],
   "source": [
    "def f1_metric(y_true, y_pred):\n",
    "    \"\"\"Compute f1 score\n",
    "    \"\"\"\n",
    "    tp = K.sum(K.cast(y_true*y_pred, 'float'), axis=0)\n",
    "    tn = K.sum(K.cast((1-y_true)*(1-y_pred), 'float'), axis=0)\n",
    "    fp = K.sum(K.cast((1-y_true)*y_pred, 'float'), axis=0)\n",
    "    fn = K.sum(K.cast(y_true*(1-y_pred), 'float'), axis=0)\n",
    "\n",
    "    precision = tp / (tp + fp + K.epsilon())\n",
    "    recall = tp / (tp + fn + K.epsilon())\n",
    "\n",
    "    f1 = 2*precision*recall / (precision+recall+K.epsilon())\n",
    "    f1 = tf.where(tf.math.is_nan(f1), tf.zeros_like(f1), f1)\n",
    "    return K.mean(f1) "
   ]
  },
  {
   "cell_type": "code",
   "execution_count": null,
   "metadata": {
    "colab": {},
    "colab_type": "code",
    "id": "6SJDVM3Gy2Ip"
   },
   "outputs": [],
   "source": [
    "def f1_loss(y_true, y_pred):\n",
    "    \"\"\"f1-scored loss\n",
    "\n",
    "    It's differentiable\n",
    "    \"\"\"\n",
    "    return 1 - f1_metric(y_true, y_pred)"
   ]
  },
  {
   "cell_type": "code",
   "execution_count": null,
   "metadata": {
    "colab": {
     "base_uri": "https://localhost:8080/",
     "height": 221
    },
    "colab_type": "code",
    "id": "gFUjIcWTWnPD",
    "outputId": "3b19f4a0-508d-48d4-fcd8-f8c0771ed8d0"
   },
   "outputs": [],
   "source": [
    "from sklearn.utils import class_weight\n",
    "model = Sequential()\n",
    "model.add(LSTM(hidden_units_1, input_shape=(timesteps, input_dim), return_sequences=False))\n",
    "model.add(Dense(output_dim, activation='sigmoid'))\n",
    "model.compile(loss='binary_crossentropy', optimizer=Adam(learning_rate=learning_rate), metrics=[f1_metric])\n",
    "weights = class_weight.compute_class_weight('balanced', np.unique(train_y), train_y)\n",
    "model.summary()"
   ]
  },
  {
   "cell_type": "code",
   "execution_count": null,
   "metadata": {
    "colab": {},
    "colab_type": "code",
    "id": "ZkydMIngX91x"
   },
   "outputs": [],
   "source": [
    "checkpoint_path = 'weights.hdf5'\n",
    "best_checkpoint = ModelCheckpoint(checkpoint_path, save_best_only=True, monitor='f1_metric', mode='max')"
   ]
  },
  {
   "cell_type": "code",
   "execution_count": null,
   "metadata": {
    "colab": {
     "base_uri": "https://localhost:8080/",
     "height": 1000
    },
    "colab_type": "code",
    "id": "kpeg7OMrWpLC",
    "outputId": "ced1dd9d-6069-4e35-d0cc-1ba132075441"
   },
   "outputs": [],
   "source": [
    "history = model.fit(\n",
    "    train_X, train_y,\n",
    "    batch_size=batch_size,\n",
    "    epochs=num_of_training_epochs,\n",
    "    validation_split=0.1,\n",
    "    class_weight=weights,\n",
    "    callbacks=[best_checkpoint]\n",
    ")\n",
    "\n",
    "model.load_weights(checkpoint_path)"
   ]
  },
  {
   "cell_type": "code",
   "execution_count": null,
   "metadata": {
    "colab": {},
    "colab_type": "code",
    "id": "8Tw2NHF1Wq57"
   },
   "outputs": [],
   "source": [
    " def compare_results(history):\n",
    "    \"\"\"Visualize the result of the training\n",
    "\n",
    "    \"\"\"\n",
    "    # Set Parameters\n",
    "    f1_score = history.history['f1_metric']\n",
    "    val_f1_score = history.history['val_f1_metric']\n",
    "\n",
    "    epochs = range(len(f1_score))\n",
    "\n",
    "    # plot f1 score\n",
    "    plt.plot(epochs, f1_score, 'bo' ,label = 'training f1')\n",
    "    plt.plot(epochs, val_f1_score, 'b' , label= 'validation f1')\n",
    "    plt.title('Training and Validation acc')\n",
    "    plt.legend()\n",
    "    plt.figure()\n",
    "    plt.show()\n"
   ]
  },
  {
   "cell_type": "code",
   "execution_count": null,
   "metadata": {
    "colab": {
     "base_uri": "https://localhost:8080/",
     "height": 298
    },
    "colab_type": "code",
    "id": "Gz1emE3uW7ho",
    "outputId": "0628d7bc-967d-4945-e702-626d137925e5"
   },
   "outputs": [],
   "source": [
    "#show Accuracy and Loss History\n",
    "compare_results(history)"
   ]
  },
  {
   "cell_type": "markdown",
   "metadata": {
    "colab_type": "text",
    "id": "Z6BUi2pkjAlP"
   },
   "source": [
    "# Make predictions on test data"
   ]
  },
  {
   "cell_type": "code",
   "execution_count": null,
   "metadata": {
    "colab": {},
    "colab_type": "code",
    "id": "HR9zd_T0W84z"
   },
   "outputs": [],
   "source": [
    "results = pd.DataFrame(np.where(model.predict(test_X)>0.5, 1, 0))"
   ]
  },
  {
   "cell_type": "code",
   "execution_count": null,
   "metadata": {
    "colab": {},
    "colab_type": "code",
    "id": "QibNjtDmgdtP"
   },
   "outputs": [],
   "source": [
    "results.to_csv(directry+'prediction.csv', index=False, header=None)"
   ]
  }
 ],
 "metadata": {
  "accelerator": "GPU",
  "colab": {
   "collapsed_sections": [],
   "name": "main.ipynb",
   "provenance": []
  },
  "kernelspec": {
   "display_name": "Python 3",
   "language": "python",
   "name": "python3"
  },
  "language_info": {
   "codemirror_mode": {
    "name": "ipython",
    "version": 3
   },
   "file_extension": ".py",
   "mimetype": "text/x-python",
   "name": "python",
   "nbconvert_exporter": "python",
   "pygments_lexer": "ipython3",
   "version": "3.8.3"
  }
 },
 "nbformat": 4,
 "nbformat_minor": 4
}
